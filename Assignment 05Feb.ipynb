{
 "cells": [
  {
   "cell_type": "markdown",
   "id": "e0790dc4-b72d-46f2-beab-14afbc786640",
   "metadata": {},
   "source": [
    "Q1. Explain Class and Object with respect to Object-Oriented Programming. Give a suitable example."
   ]
  },
  {
   "cell_type": "markdown",
   "id": "da979319-6bf1-4874-bdb9-6a33ddd9273f",
   "metadata": {},
   "source": [
    "Class − A class can be defined as a template/blueprint that describes the behavior/state that the object of its type support.\n",
    "\n",
    "Object − Objects have states and behaviors. Example: A dog has states - color, name, breed as well as behaviors – wagging the tail, barking, eating. An object is an instance of a class."
   ]
  },
  {
   "cell_type": "code",
   "execution_count": 5,
   "id": "ba07340a-2161-417a-a567-19b3e523698a",
   "metadata": {},
   "outputs": [
    {
     "name": "stdout",
     "output_type": "stream",
     "text": [
      "Name: Mountain Bike, Gears: 11 \n"
     ]
    }
   ],
   "source": [
    "class Bike:\n",
    "    name = \"\"\n",
    "    gear = 0\n",
    "\n",
    "bike1 = Bike()\n",
    "\n",
    "bike1.gear = 11\n",
    "bike1.name = \"Mountain Bike\"\n",
    "\n",
    "print(f\"Name: {bike1.name}, Gears: {bike1.gear} \")"
   ]
  },
  {
   "cell_type": "markdown",
   "id": "9b51a2ba-0d22-4ef3-94ba-873536450327",
   "metadata": {},
   "source": [
    "Q2. Name the four pillars of OOPs."
   ]
  },
  {
   "cell_type": "markdown",
   "id": "9aedb8cf-3c07-4dfc-b9fd-71ebeb6e1e64",
   "metadata": {},
   "source": [
    "Ans) These principles are called the four pillars of object-oriented programming (OOP). These four pillars are Inheritance, Polymorphism, Encapsulation and Abstraction."
   ]
  },
  {
   "cell_type": "markdown",
   "id": "40d7737c-990c-4349-8278-aeca4bd9b204",
   "metadata": {},
   "source": [
    "Q3. Explain why the __init__() function is used. Give a suitable example."
   ]
  },
  {
   "cell_type": "markdown",
   "id": "23fa7c52-252e-438a-ac9b-8233da4eb966",
   "metadata": {},
   "source": [
    "Ans) The __init__ method lets the class initialize the object's attributes and serves no other purpose. It is only used within classes"
   ]
  },
  {
   "cell_type": "code",
   "execution_count": 11,
   "id": "5668e74c-dd53-4048-a303-9f40836d67b1",
   "metadata": {},
   "outputs": [
    {
     "name": "stdout",
     "output_type": "stream",
     "text": [
      "Rohan\n",
      "36\n"
     ]
    }
   ],
   "source": [
    "class Person:\n",
    "    def __init__(self, name, age):\n",
    "        \n",
    "        self.name = name\n",
    "        self.age = age\n",
    "\n",
    "p1 = Person(\"Rohan\", 36)\n",
    "\n",
    "print(p1.name)\n",
    "print(p1.age)"
   ]
  },
  {
   "cell_type": "markdown",
   "id": "889fd1bc-7509-4d0a-be34-591b67f1b4d8",
   "metadata": {},
   "source": [
    "Q4. Why self is used in OOPs?"
   ]
  },
  {
   "cell_type": "markdown",
   "id": "ec847de2-612d-4d53-968b-cee900c283bc",
   "metadata": {},
   "source": [
    "The self variable is used to represent the instance of the class which is often used in object-oriented programming. It works as a reference to the object. Python uses the self parameter to refer to instance attributes and methods of the class"
   ]
  },
  {
   "cell_type": "markdown",
   "id": "cc255353-9863-48f4-b21d-ce8bcc08024f",
   "metadata": {},
   "source": [
    "Q5. What is inheritance? Give an example for each type of inheritance."
   ]
  },
  {
   "cell_type": "markdown",
   "id": "d6295418-4c59-473b-bd37-b1bd705fa854",
   "metadata": {},
   "source": [
    "Ans) Inheritance is a mechanism in which one class acquires the property of another class. For example, a child inherits the traits of his/her parents. With inheritance, we can reuse the fields and methods of the existing class. Hence, inheritance facilitates reusability and is an important concept of OOPs."
   ]
  },
  {
   "cell_type": "code",
   "execution_count": 36,
   "id": "36260bb6-2d17-4d76-929e-d8fafaf0f5fa",
   "metadata": {},
   "outputs": [
    {
     "name": "stdout",
     "output_type": "stream",
     "text": [
      "Kartikey is a Professor\n"
     ]
    }
   ],
   "source": [
    "#There are five types of inheritances:\n",
    "\n",
    "# Single Inheritance- When one child class inherits only one parent class, it is called single inheritance\n",
    "\n",
    "class Person:\n",
    "    def __init__(self, name, age):\n",
    "        self.name = name\n",
    "        self.age = age\n",
    "class Professor(Person):\n",
    "    def isProfessor(self):\n",
    "        return f\"{self.name} is a Professor\"\n",
    "sir = Professor(\"Kartikey\", 30)\n",
    "print(sir.isProfessor())"
   ]
  },
  {
   "cell_type": "code",
   "execution_count": 37,
   "id": "be84715d-acb9-4c2a-8bed-71b6823de0c8",
   "metadata": {},
   "outputs": [
    {
     "name": "stdout",
     "output_type": "stream",
     "text": [
      "8\n"
     ]
    }
   ],
   "source": [
    "# Multiple Inheritance- When one child class inherits two or more parent classes, it is called Multiple Inheritance.\n",
    "\n",
    "class SuperClass1:\n",
    "    num1 = 3\n",
    "class SuperClass2:\n",
    "    num2 = 5\n",
    "class SubClass( SuperClass1, SuperClass2):\n",
    "    def addition(self):\n",
    "        return self.num1 + self.num2\n",
    "obj = SubClass()\n",
    "print(obj.addition())"
   ]
  },
  {
   "cell_type": "code",
   "execution_count": 33,
   "id": "6bf64758-ff9e-4319-9564-7e688c7d1104",
   "metadata": {},
   "outputs": [
    {
     "name": "stdout",
     "output_type": "stream",
     "text": [
      "DataScience\n"
     ]
    }
   ],
   "source": [
    "# Multilevel Inheritance- When a class inherits a child class, it is called Multilevel Inheritance. The class which inherits the child class is called a grandchild class. Multilevel Inheritance causes grandchild and child relationships. The grandchild class has access to both child and parent class properties.\n",
    "\n",
    "class Parent:\n",
    "    str1 = \"Data\"\n",
    "class Child(Parent):\n",
    "    str2 = \"Science\"\n",
    "class GrandChild(Child):\n",
    "    def get_str(self):\n",
    "        print(self.str1 + self.str2)\n",
    "person = GrandChild()\n",
    "person.get_str()"
   ]
  },
  {
   "cell_type": "code",
   "execution_count": 34,
   "id": "89ae9f23-1a2c-4c44-8001-3e38cf3f648a",
   "metadata": {},
   "outputs": [
    {
     "name": "stdout",
     "output_type": "stream",
     "text": [
      "3 3 3\n"
     ]
    }
   ],
   "source": [
    "# Hierarchical Inheritance- When multiple classes inherit the same class, it is called Hierarchical Inheritance.\n",
    "\n",
    "class SuperClass:\n",
    "    x = 3\n",
    "class SubClass1(SuperClass):\n",
    "    pass\n",
    "class SubClass2(SuperClass):\n",
    "    pass\n",
    "class SubClass3(SuperClass):\n",
    "    pass\n",
    "a = SubClass1()\n",
    "b = SubClass2()\n",
    "c = SubClass3()\n",
    "print(a.x, b.x, c.x)"
   ]
  },
  {
   "cell_type": "code",
   "execution_count": 35,
   "id": "8a765a56-531b-45c9-aae0-b01d18147980",
   "metadata": {},
   "outputs": [
    {
     "name": "stdout",
     "output_type": "stream",
     "text": [
      "10\n"
     ]
    }
   ],
   "source": [
    "# Hybrid Inheritance- A combination of more than one type of inheritance is called Hybrid Inheritance.\n",
    "\n",
    "class X:\n",
    "    num = 10\n",
    "class A(X):\n",
    "    pass\n",
    "class B(A):\n",
    "    pass\n",
    "class C(A):\n",
    "    pass\n",
    "class D(B, C):\n",
    "    pass\n",
    "ob = D()\n",
    "print(D.num)"
   ]
  },
  {
   "cell_type": "code",
   "execution_count": null,
   "id": "9ab60ef7-f100-4964-b021-b8fa5c7d063b",
   "metadata": {},
   "outputs": [],
   "source": []
  }
 ],
 "metadata": {
  "kernelspec": {
   "display_name": "Python 3 (ipykernel)",
   "language": "python",
   "name": "python3"
  },
  "language_info": {
   "codemirror_mode": {
    "name": "ipython",
    "version": 3
   },
   "file_extension": ".py",
   "mimetype": "text/x-python",
   "name": "python",
   "nbconvert_exporter": "python",
   "pygments_lexer": "ipython3",
   "version": "3.10.8"
  }
 },
 "nbformat": 4,
 "nbformat_minor": 5
}
